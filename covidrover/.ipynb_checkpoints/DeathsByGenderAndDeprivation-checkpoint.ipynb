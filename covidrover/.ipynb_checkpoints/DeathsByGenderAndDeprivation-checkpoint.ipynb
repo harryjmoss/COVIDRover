{
 "cells": [
  {
   "cell_type": "code",
   "execution_count": 9,
   "metadata": {},
   "outputs": [],
   "source": [
    "import pandas as pd\n",
    "import requests\n",
    "from io import StringIO\n",
    "\n",
    "def download_latest_csvs(cases_url, deaths_url):\n",
    "    caseCSV=requests.get(cases_url).text\n",
    "    caseDF=pd.read_csv(StringIO(caseCSV))\n",
    "    deathCSV=requests.get(deaths_url).text\n",
    "    deathDF=pd.read_csv(StringIO(deathCSV))\n",
    "    return caseDF, deathDF"
   ]
  },
  {
   "cell_type": "code",
   "execution_count": 10,
   "metadata": {},
   "outputs": [],
   "source": [
    "cases_url = \"https://coronavirus.data.gov.uk/downloads/csv/coronavirus-cases_latest.csv\"\n",
    "deaths_url = \"https://coronavirus.data.gov.uk/downloads/csv/coronavirus-deaths_latest.csv\"\n",
    "casesDF, deathsDF = download_latest_csvs(cases_url, deaths_url)"
   ]
  },
  {
   "cell_type": "code",
   "execution_count": 11,
   "metadata": {},
   "outputs": [],
   "source": [
    "depURL=\"https://www.ons.gov.uk/file?uri=%2fpeoplepopulationandcommunity%2fbirthsdeathsandmarriages%2fdeaths%2fdatasets%2fdeathsinvolvingcovid19bylocalareaanddeprivation%2f1march2020to31may2020/referencetablesworkbook1.xlsx\""
   ]
  },
  {
   "cell_type": "code",
   "execution_count": 12,
   "metadata": {},
   "outputs": [],
   "source": [
    "import openpyxl"
   ]
  },
  {
   "cell_type": "code",
   "execution_count": 13,
   "metadata": {},
   "outputs": [],
   "source": [
    "import numpy as np"
   ]
  },
  {
   "cell_type": "code",
   "execution_count": 14,
   "metadata": {},
   "outputs": [
    {
     "data": {
      "text/plain": [
       "'https://www.ons.gov.uk/file?uri=%2fpeoplepopulationandcommunity%2fbirthsdeathsandmarriages%2fdeaths%2fdatasets%2fdeathsinvolvingcovid19bylocalareaanddeprivation%2f1march2020to31may2020/referencetablesworkbook1.xlsx'"
      ]
     },
     "execution_count": 14,
     "metadata": {},
     "output_type": "execute_result"
    }
   ],
   "source": [
    "depURL"
   ]
  },
  {
   "cell_type": "code",
   "execution_count": 15,
   "metadata": {},
   "outputs": [],
   "source": [
    "depRequest=requests.get(depURL)\n",
    "\n",
    "output=open('../data/covid_deprivation_gender.xlsx','wb')\n",
    "output.write(depRequest.content)\n",
    "output.close()\n"
   ]
  },
  {
   "cell_type": "code",
   "execution_count": 17,
   "metadata": {},
   "outputs": [],
   "source": [
    "depDF=pd.read_excel('../data/covid_deprivation_gender.xlsx',\"Table 3\")"
   ]
  },
  {
   "cell_type": "code",
   "execution_count": 18,
   "metadata": {},
   "outputs": [],
   "source": [
    "depDF=depDF.drop([0,1])"
   ]
  },
  {
   "cell_type": "code",
   "execution_count": 19,
   "metadata": {},
   "outputs": [],
   "source": [
    "depDF.index=np.arange(0,len(depDF))"
   ]
  },
  {
   "cell_type": "code",
   "execution_count": 20,
   "metadata": {},
   "outputs": [],
   "source": [
    "droprange=np.arange(92,114)"
   ]
  },
  {
   "cell_type": "code",
   "execution_count": 21,
   "metadata": {},
   "outputs": [],
   "source": [
    "depDF.drop(droprange,inplace=True)"
   ]
  },
  {
   "cell_type": "code",
   "execution_count": 22,
   "metadata": {},
   "outputs": [],
   "source": [
    "new_header = depDF.iloc[0] #grab the first row for the header\n",
    "depDF = depDF[1:] #take the data less the header row\n",
    "depDF.columns = new_header #set the header row as the df header\n",
    "\n"
   ]
  },
  {
   "cell_type": "code",
   "execution_count": 23,
   "metadata": {},
   "outputs": [
    {
     "data": {
      "text/html": [
       "<div>\n",
       "<style scoped>\n",
       "    .dataframe tbody tr th:only-of-type {\n",
       "        vertical-align: middle;\n",
       "    }\n",
       "\n",
       "    .dataframe tbody tr th {\n",
       "        vertical-align: top;\n",
       "    }\n",
       "\n",
       "    .dataframe thead th {\n",
       "        text-align: right;\n",
       "    }\n",
       "</style>\n",
       "<table border=\"1\" class=\"dataframe\">\n",
       "  <thead>\n",
       "    <tr style=\"text-align: right;\">\n",
       "      <th></th>\n",
       "      <th>Cause of death</th>\n",
       "      <th>Sex</th>\n",
       "      <th>Decile</th>\n",
       "      <th>NaN</th>\n",
       "      <th>March</th>\n",
       "      <th>NaN</th>\n",
       "      <th>NaN</th>\n",
       "      <th>NaN</th>\n",
       "      <th>NaN</th>\n",
       "      <th>NaN</th>\n",
       "      <th>...</th>\n",
       "      <th>NaN</th>\n",
       "      <th>NaN</th>\n",
       "      <th>NaN</th>\n",
       "      <th>NaN</th>\n",
       "      <th>NaN</th>\n",
       "      <th>3 month - March to May</th>\n",
       "      <th>NaN</th>\n",
       "      <th>NaN</th>\n",
       "      <th>NaN</th>\n",
       "      <th>NaN</th>\n",
       "    </tr>\n",
       "  </thead>\n",
       "  <tbody>\n",
       "    <tr>\n",
       "      <th>1</th>\n",
       "      <td>NaN</td>\n",
       "      <td>NaN</td>\n",
       "      <td>NaN</td>\n",
       "      <td>NaN</td>\n",
       "      <td>Deaths</td>\n",
       "      <td>Rate</td>\n",
       "      <td>NaN</td>\n",
       "      <td>Lower CI</td>\n",
       "      <td>Upper CI</td>\n",
       "      <td>NaN</td>\n",
       "      <td>...</td>\n",
       "      <td>Rate</td>\n",
       "      <td>NaN</td>\n",
       "      <td>Lower CI</td>\n",
       "      <td>Upper CI</td>\n",
       "      <td>NaN</td>\n",
       "      <td>Deaths</td>\n",
       "      <td>Rate</td>\n",
       "      <td>NaN</td>\n",
       "      <td>Lower CI</td>\n",
       "      <td>Upper CI</td>\n",
       "    </tr>\n",
       "    <tr>\n",
       "      <th>2</th>\n",
       "      <td>All causes</td>\n",
       "      <td>Persons</td>\n",
       "      <td>1 (most deprived)</td>\n",
       "      <td>NaN</td>\n",
       "      <td>5023</td>\n",
       "      <td>131.8</td>\n",
       "      <td>NaN</td>\n",
       "      <td>128.1</td>\n",
       "      <td>135.5</td>\n",
       "      <td>NaN</td>\n",
       "      <td>...</td>\n",
       "      <td>124.7</td>\n",
       "      <td>NaN</td>\n",
       "      <td>121.1</td>\n",
       "      <td>128.3</td>\n",
       "      <td>NaN</td>\n",
       "      <td>17641</td>\n",
       "      <td>466.2</td>\n",
       "      <td>NaN</td>\n",
       "      <td>459.3</td>\n",
       "      <td>473.2</td>\n",
       "    </tr>\n",
       "    <tr>\n",
       "      <th>3</th>\n",
       "      <td>All causes</td>\n",
       "      <td>Persons</td>\n",
       "      <td>2</td>\n",
       "      <td>NaN</td>\n",
       "      <td>5087</td>\n",
       "      <td>123.1</td>\n",
       "      <td>NaN</td>\n",
       "      <td>119.7</td>\n",
       "      <td>126.5</td>\n",
       "      <td>NaN</td>\n",
       "      <td>...</td>\n",
       "      <td>108.2</td>\n",
       "      <td>NaN</td>\n",
       "      <td>105</td>\n",
       "      <td>111.4</td>\n",
       "      <td>NaN</td>\n",
       "      <td>17769</td>\n",
       "      <td>431.4</td>\n",
       "      <td>NaN</td>\n",
       "      <td>425</td>\n",
       "      <td>437.7</td>\n",
       "    </tr>\n",
       "    <tr>\n",
       "      <th>4</th>\n",
       "      <td>All causes</td>\n",
       "      <td>Persons</td>\n",
       "      <td>3</td>\n",
       "      <td>NaN</td>\n",
       "      <td>4953</td>\n",
       "      <td>111.2</td>\n",
       "      <td>NaN</td>\n",
       "      <td>108.1</td>\n",
       "      <td>114.4</td>\n",
       "      <td>NaN</td>\n",
       "      <td>...</td>\n",
       "      <td>99.7</td>\n",
       "      <td>NaN</td>\n",
       "      <td>96.8</td>\n",
       "      <td>102.6</td>\n",
       "      <td>NaN</td>\n",
       "      <td>17253</td>\n",
       "      <td>387.7</td>\n",
       "      <td>NaN</td>\n",
       "      <td>381.9</td>\n",
       "      <td>393.5</td>\n",
       "    </tr>\n",
       "    <tr>\n",
       "      <th>5</th>\n",
       "      <td>All causes</td>\n",
       "      <td>Persons</td>\n",
       "      <td>4</td>\n",
       "      <td>NaN</td>\n",
       "      <td>4921</td>\n",
       "      <td>98.9</td>\n",
       "      <td>NaN</td>\n",
       "      <td>96.2</td>\n",
       "      <td>101.7</td>\n",
       "      <td>NaN</td>\n",
       "      <td>...</td>\n",
       "      <td>90.7</td>\n",
       "      <td>NaN</td>\n",
       "      <td>88</td>\n",
       "      <td>93.3</td>\n",
       "      <td>NaN</td>\n",
       "      <td>17011</td>\n",
       "      <td>342.5</td>\n",
       "      <td>NaN</td>\n",
       "      <td>337.4</td>\n",
       "      <td>347.7</td>\n",
       "    </tr>\n",
       "    <tr>\n",
       "      <th>...</th>\n",
       "      <td>...</td>\n",
       "      <td>...</td>\n",
       "      <td>...</td>\n",
       "      <td>...</td>\n",
       "      <td>...</td>\n",
       "      <td>...</td>\n",
       "      <td>...</td>\n",
       "      <td>...</td>\n",
       "      <td>...</td>\n",
       "      <td>...</td>\n",
       "      <td>...</td>\n",
       "      <td>...</td>\n",
       "      <td>...</td>\n",
       "      <td>...</td>\n",
       "      <td>...</td>\n",
       "      <td>...</td>\n",
       "      <td>...</td>\n",
       "      <td>...</td>\n",
       "      <td>...</td>\n",
       "      <td>...</td>\n",
       "      <td>...</td>\n",
       "    </tr>\n",
       "    <tr>\n",
       "      <th>87</th>\n",
       "      <td>Non COVID-19</td>\n",
       "      <td>Females</td>\n",
       "      <td>6</td>\n",
       "      <td>NaN</td>\n",
       "      <td>2330</td>\n",
       "      <td>68.8</td>\n",
       "      <td>NaN</td>\n",
       "      <td>66</td>\n",
       "      <td>71.7</td>\n",
       "      <td>NaN</td>\n",
       "      <td>...</td>\n",
       "      <td>55.5</td>\n",
       "      <td>NaN</td>\n",
       "      <td>52.9</td>\n",
       "      <td>58</td>\n",
       "      <td>NaN</td>\n",
       "      <td>6727</td>\n",
       "      <td>198.1</td>\n",
       "      <td>NaN</td>\n",
       "      <td>193.3</td>\n",
       "      <td>202.8</td>\n",
       "    </tr>\n",
       "    <tr>\n",
       "      <th>88</th>\n",
       "      <td>Non COVID-19</td>\n",
       "      <td>Females</td>\n",
       "      <td>7</td>\n",
       "      <td>NaN</td>\n",
       "      <td>2330</td>\n",
       "      <td>67.5</td>\n",
       "      <td>NaN</td>\n",
       "      <td>64.7</td>\n",
       "      <td>70.3</td>\n",
       "      <td>NaN</td>\n",
       "      <td>...</td>\n",
       "      <td>52.3</td>\n",
       "      <td>NaN</td>\n",
       "      <td>49.8</td>\n",
       "      <td>54.7</td>\n",
       "      <td>NaN</td>\n",
       "      <td>6677</td>\n",
       "      <td>192.1</td>\n",
       "      <td>NaN</td>\n",
       "      <td>187.5</td>\n",
       "      <td>196.8</td>\n",
       "    </tr>\n",
       "    <tr>\n",
       "      <th>89</th>\n",
       "      <td>Non COVID-19</td>\n",
       "      <td>Females</td>\n",
       "      <td>8</td>\n",
       "      <td>NaN</td>\n",
       "      <td>2200</td>\n",
       "      <td>62.3</td>\n",
       "      <td>NaN</td>\n",
       "      <td>59.6</td>\n",
       "      <td>64.9</td>\n",
       "      <td>NaN</td>\n",
       "      <td>...</td>\n",
       "      <td>52</td>\n",
       "      <td>NaN</td>\n",
       "      <td>49.6</td>\n",
       "      <td>54.4</td>\n",
       "      <td>NaN</td>\n",
       "      <td>6555</td>\n",
       "      <td>185.2</td>\n",
       "      <td>NaN</td>\n",
       "      <td>180.7</td>\n",
       "      <td>189.7</td>\n",
       "    </tr>\n",
       "    <tr>\n",
       "      <th>90</th>\n",
       "      <td>Non COVID-19</td>\n",
       "      <td>Females</td>\n",
       "      <td>9</td>\n",
       "      <td>NaN</td>\n",
       "      <td>2138</td>\n",
       "      <td>59.5</td>\n",
       "      <td>NaN</td>\n",
       "      <td>57</td>\n",
       "      <td>62.1</td>\n",
       "      <td>NaN</td>\n",
       "      <td>...</td>\n",
       "      <td>49.4</td>\n",
       "      <td>NaN</td>\n",
       "      <td>47.1</td>\n",
       "      <td>51.7</td>\n",
       "      <td>NaN</td>\n",
       "      <td>6497</td>\n",
       "      <td>179.6</td>\n",
       "      <td>NaN</td>\n",
       "      <td>175.2</td>\n",
       "      <td>184</td>\n",
       "    </tr>\n",
       "    <tr>\n",
       "      <th>91</th>\n",
       "      <td>Non COVID-19</td>\n",
       "      <td>Females</td>\n",
       "      <td>10 (least deprived)</td>\n",
       "      <td>NaN</td>\n",
       "      <td>2079</td>\n",
       "      <td>57.1</td>\n",
       "      <td>NaN</td>\n",
       "      <td>54.6</td>\n",
       "      <td>59.6</td>\n",
       "      <td>NaN</td>\n",
       "      <td>...</td>\n",
       "      <td>48.2</td>\n",
       "      <td>NaN</td>\n",
       "      <td>45.9</td>\n",
       "      <td>50.4</td>\n",
       "      <td>NaN</td>\n",
       "      <td>6072</td>\n",
       "      <td>165.8</td>\n",
       "      <td>NaN</td>\n",
       "      <td>161.6</td>\n",
       "      <td>170</td>\n",
       "    </tr>\n",
       "  </tbody>\n",
       "</table>\n",
       "<p>91 rows × 27 columns</p>\n",
       "</div>"
      ],
      "text/plain": [
       "0  Cause of death      Sex               Decile NaN   March    NaN NaN  \\\n",
       "1             NaN      NaN                  NaN NaN  Deaths   Rate NaN   \n",
       "2      All causes  Persons    1 (most deprived) NaN    5023  131.8 NaN   \n",
       "3      All causes  Persons                    2 NaN    5087  123.1 NaN   \n",
       "4      All causes  Persons                    3 NaN    4953  111.2 NaN   \n",
       "5      All causes  Persons                    4 NaN    4921   98.9 NaN   \n",
       "..            ...      ...                  ...  ..     ...    ...  ..   \n",
       "87   Non COVID-19  Females                    6 NaN    2330   68.8 NaN   \n",
       "88   Non COVID-19  Females                    7 NaN    2330   67.5 NaN   \n",
       "89   Non COVID-19  Females                    8 NaN    2200   62.3 NaN   \n",
       "90   Non COVID-19  Females                    9 NaN    2138   59.5 NaN   \n",
       "91   Non COVID-19  Females  10 (least deprived) NaN    2079   57.1 NaN   \n",
       "\n",
       "0        NaN       NaN NaN  ...    NaN NaN       NaN       NaN NaN  \\\n",
       "1   Lower CI  Upper CI NaN  ...   Rate NaN  Lower CI  Upper CI NaN   \n",
       "2      128.1     135.5 NaN  ...  124.7 NaN     121.1     128.3 NaN   \n",
       "3      119.7     126.5 NaN  ...  108.2 NaN       105     111.4 NaN   \n",
       "4      108.1     114.4 NaN  ...   99.7 NaN      96.8     102.6 NaN   \n",
       "5       96.2     101.7 NaN  ...   90.7 NaN        88      93.3 NaN   \n",
       "..       ...       ...  ..  ...    ...  ..       ...       ...  ..   \n",
       "87        66      71.7 NaN  ...   55.5 NaN      52.9        58 NaN   \n",
       "88      64.7      70.3 NaN  ...   52.3 NaN      49.8      54.7 NaN   \n",
       "89      59.6      64.9 NaN  ...     52 NaN      49.6      54.4 NaN   \n",
       "90        57      62.1 NaN  ...   49.4 NaN      47.1      51.7 NaN   \n",
       "91      54.6      59.6 NaN  ...   48.2 NaN      45.9      50.4 NaN   \n",
       "\n",
       "0   3 month - March to May    NaN NaN       NaN       NaN  \n",
       "1                   Deaths   Rate NaN  Lower CI  Upper CI  \n",
       "2                    17641  466.2 NaN     459.3     473.2  \n",
       "3                    17769  431.4 NaN       425     437.7  \n",
       "4                    17253  387.7 NaN     381.9     393.5  \n",
       "5                    17011  342.5 NaN     337.4     347.7  \n",
       "..                     ...    ...  ..       ...       ...  \n",
       "87                    6727  198.1 NaN     193.3     202.8  \n",
       "88                    6677  192.1 NaN     187.5     196.8  \n",
       "89                    6555  185.2 NaN     180.7     189.7  \n",
       "90                    6497  179.6 NaN     175.2       184  \n",
       "91                    6072  165.8 NaN     161.6       170  \n",
       "\n",
       "[91 rows x 27 columns]"
      ]
     },
     "execution_count": 23,
     "metadata": {},
     "output_type": "execute_result"
    }
   ],
   "source": [
    "depDF"
   ]
  },
  {
   "cell_type": "code",
   "execution_count": 15,
   "metadata": {},
   "outputs": [],
   "source": [
    "newColumnList=['Cause of death',\n",
    " 'Sex',\n",
    " 'Decile',\n",
    " 1,\n",
    " 'MarchDeaths',\n",
    " 'MarchRate',\n",
    " 'MarchNaN',\n",
    " 'MarchLowCI',\n",
    " 'MarchUpperCI',\n",
    " 'MarchNaN2',\n",
    " 'AprilDeaths',\n",
    " 'AprilRate',\n",
    " 'AprilNaN',\n",
    " 'AprilLowCI',\n",
    " 'AprilUpperCI',\n",
    " 'AprilNaN2',\n",
    " 'MayDeaths',\n",
    " 'MayRate',\n",
    " 'MayNaN',\n",
    " 'MayLowCI',\n",
    " 'MayUpperCI',\n",
    " 'MayNaN2',\n",
    " 'MarchMayDeaths',\n",
    " 'MarchMayRate',\n",
    " 'MarchMayNaN',\n",
    " 'MarchMayLowCI',\n",
    " 'MarchMayUpperCI']"
   ]
  },
  {
   "cell_type": "code",
   "execution_count": 16,
   "metadata": {},
   "outputs": [],
   "source": [
    "depDF.columns=newColumnList"
   ]
  },
  {
   "cell_type": "code",
   "execution_count": 17,
   "metadata": {},
   "outputs": [],
   "source": [
    "depDFSummary=depDF[['Cause of death','Sex','Decile','MarchMayDeaths','MarchMayRate','MarchMayLowCI','MarchMayUpperCI']]"
   ]
  },
  {
   "cell_type": "code",
   "execution_count": 18,
   "metadata": {},
   "outputs": [],
   "source": [
    "depDFSummary.columns=['DeathCause','Sex','Decile','Deaths','Rate','LowerCI','UpperCI']"
   ]
  },
  {
   "cell_type": "code",
   "execution_count": 19,
   "metadata": {},
   "outputs": [],
   "source": [
    "depDFSummary=depDFSummary.fillna(\"\")"
   ]
  },
  {
   "cell_type": "code",
   "execution_count": 20,
   "metadata": {},
   "outputs": [],
   "source": [
    "covDepDF=depDFSummary[depDFSummary['DeathCause'].str.match(\"COVID-19\")]"
   ]
  },
  {
   "cell_type": "code",
   "execution_count": 21,
   "metadata": {},
   "outputs": [
    {
     "name": "stderr",
     "output_type": "stream",
     "text": [
      "/Library/Frameworks/Python.framework/Versions/3.7/lib/python3.7/site-packages/pandas/core/generic.py:5303: SettingWithCopyWarning: \n",
      "A value is trying to be set on a copy of a slice from a DataFrame.\n",
      "Try using .loc[row_indexer,col_indexer] = value instead\n",
      "\n",
      "See the caveats in the documentation: https://pandas.pydata.org/pandas-docs/stable/user_guide/indexing.html#returning-a-view-versus-a-copy\n",
      "  self[name] = value\n"
     ]
    }
   ],
   "source": [
    "covDepDF.Decile=list(np.arange(1,11))*3"
   ]
  },
  {
   "cell_type": "code",
   "execution_count": 22,
   "metadata": {},
   "outputs": [
    {
     "name": "stderr",
     "output_type": "stream",
     "text": [
      "/Library/Frameworks/Python.framework/Versions/3.7/lib/python3.7/site-packages/ipykernel_launcher.py:1: SettingWithCopyWarning: \n",
      "A value is trying to be set on a copy of a slice from a DataFrame.\n",
      "Try using .loc[row_indexer,col_indexer] = value instead\n",
      "\n",
      "See the caveats in the documentation: https://pandas.pydata.org/pandas-docs/stable/user_guide/indexing.html#returning-a-view-versus-a-copy\n",
      "  \"\"\"Entry point for launching an IPython kernel.\n"
     ]
    }
   ],
   "source": [
    "covDepDF[\"Deaths\"] = pd.to_numeric(covDepDF[\"Deaths\"])"
   ]
  },
  {
   "cell_type": "code",
   "execution_count": 23,
   "metadata": {},
   "outputs": [
    {
     "name": "stderr",
     "output_type": "stream",
     "text": [
      "/Library/Frameworks/Python.framework/Versions/3.7/lib/python3.7/site-packages/ipykernel_launcher.py:1: SettingWithCopyWarning: \n",
      "A value is trying to be set on a copy of a slice from a DataFrame.\n",
      "Try using .loc[row_indexer,col_indexer] = value instead\n",
      "\n",
      "See the caveats in the documentation: https://pandas.pydata.org/pandas-docs/stable/user_guide/indexing.html#returning-a-view-versus-a-copy\n",
      "  \"\"\"Entry point for launching an IPython kernel.\n"
     ]
    }
   ],
   "source": [
    "covDepDF[\"Rate\"]=pd.to_numeric(covDepDF[\"Rate\"])"
   ]
  },
  {
   "cell_type": "code",
   "execution_count": 24,
   "metadata": {},
   "outputs": [
    {
     "name": "stderr",
     "output_type": "stream",
     "text": [
      "/Library/Frameworks/Python.framework/Versions/3.7/lib/python3.7/site-packages/ipykernel_launcher.py:1: SettingWithCopyWarning: \n",
      "A value is trying to be set on a copy of a slice from a DataFrame.\n",
      "Try using .loc[row_indexer,col_indexer] = value instead\n",
      "\n",
      "See the caveats in the documentation: https://pandas.pydata.org/pandas-docs/stable/user_guide/indexing.html#returning-a-view-versus-a-copy\n",
      "  \"\"\"Entry point for launching an IPython kernel.\n",
      "/Library/Frameworks/Python.framework/Versions/3.7/lib/python3.7/site-packages/ipykernel_launcher.py:2: SettingWithCopyWarning: \n",
      "A value is trying to be set on a copy of a slice from a DataFrame.\n",
      "Try using .loc[row_indexer,col_indexer] = value instead\n",
      "\n",
      "See the caveats in the documentation: https://pandas.pydata.org/pandas-docs/stable/user_guide/indexing.html#returning-a-view-versus-a-copy\n",
      "  \n"
     ]
    }
   ],
   "source": [
    "covDepDF[\"LowerCI\"]=pd.to_numeric(covDepDF[\"LowerCI\"])\n",
    "covDepDF[\"UpperCI\"]=pd.to_numeric(covDepDF[\"UpperCI\"])"
   ]
  },
  {
   "cell_type": "code",
   "execution_count": 25,
   "metadata": {},
   "outputs": [],
   "source": [
    "covDepDF.index=np.arange(0,len(covDepDF))"
   ]
  },
  {
   "cell_type": "code",
   "execution_count": 28,
   "metadata": {},
   "outputs": [],
   "source": [
    "covDepDF=covDepDF.drop(columns='DeathCause')"
   ]
  },
  {
   "cell_type": "code",
   "execution_count": 29,
   "metadata": {},
   "outputs": [
    {
     "data": {
      "text/html": [
       "<div>\n",
       "<style scoped>\n",
       "    .dataframe tbody tr th:only-of-type {\n",
       "        vertical-align: middle;\n",
       "    }\n",
       "\n",
       "    .dataframe tbody tr th {\n",
       "        vertical-align: top;\n",
       "    }\n",
       "\n",
       "    .dataframe thead th {\n",
       "        text-align: right;\n",
       "    }\n",
       "</style>\n",
       "<table border=\"1\" class=\"dataframe\">\n",
       "  <thead>\n",
       "    <tr style=\"text-align: right;\">\n",
       "      <th></th>\n",
       "      <th>Sex</th>\n",
       "      <th>Decile</th>\n",
       "      <th>Deaths</th>\n",
       "      <th>Rate</th>\n",
       "      <th>LowerCI</th>\n",
       "      <th>UpperCI</th>\n",
       "    </tr>\n",
       "  </thead>\n",
       "  <tbody>\n",
       "    <tr>\n",
       "      <th>0</th>\n",
       "      <td>Persons</td>\n",
       "      <td>1</td>\n",
       "      <td>4801</td>\n",
       "      <td>128.3</td>\n",
       "      <td>124.7</td>\n",
       "      <td>132.0</td>\n",
       "    </tr>\n",
       "    <tr>\n",
       "      <th>1</th>\n",
       "      <td>Persons</td>\n",
       "      <td>2</td>\n",
       "      <td>5123</td>\n",
       "      <td>124.8</td>\n",
       "      <td>121.4</td>\n",
       "      <td>128.3</td>\n",
       "    </tr>\n",
       "    <tr>\n",
       "      <th>2</th>\n",
       "      <td>Persons</td>\n",
       "      <td>3</td>\n",
       "      <td>5100</td>\n",
       "      <td>114.5</td>\n",
       "      <td>111.3</td>\n",
       "      <td>117.6</td>\n",
       "    </tr>\n",
       "    <tr>\n",
       "      <th>3</th>\n",
       "      <td>Persons</td>\n",
       "      <td>4</td>\n",
       "      <td>4385</td>\n",
       "      <td>88.3</td>\n",
       "      <td>85.7</td>\n",
       "      <td>90.9</td>\n",
       "    </tr>\n",
       "    <tr>\n",
       "      <th>4</th>\n",
       "      <td>Persons</td>\n",
       "      <td>5</td>\n",
       "      <td>4346</td>\n",
       "      <td>80.3</td>\n",
       "      <td>78.0</td>\n",
       "      <td>82.7</td>\n",
       "    </tr>\n",
       "    <tr>\n",
       "      <th>5</th>\n",
       "      <td>Persons</td>\n",
       "      <td>6</td>\n",
       "      <td>4225</td>\n",
       "      <td>73.2</td>\n",
       "      <td>71.0</td>\n",
       "      <td>75.4</td>\n",
       "    </tr>\n",
       "    <tr>\n",
       "      <th>6</th>\n",
       "      <td>Persons</td>\n",
       "      <td>7</td>\n",
       "      <td>4266</td>\n",
       "      <td>71.8</td>\n",
       "      <td>69.7</td>\n",
       "      <td>74.0</td>\n",
       "    </tr>\n",
       "    <tr>\n",
       "      <th>7</th>\n",
       "      <td>Persons</td>\n",
       "      <td>8</td>\n",
       "      <td>4259</td>\n",
       "      <td>70.3</td>\n",
       "      <td>68.1</td>\n",
       "      <td>72.4</td>\n",
       "    </tr>\n",
       "    <tr>\n",
       "      <th>8</th>\n",
       "      <td>Persons</td>\n",
       "      <td>9</td>\n",
       "      <td>4139</td>\n",
       "      <td>67.0</td>\n",
       "      <td>65.0</td>\n",
       "      <td>69.0</td>\n",
       "    </tr>\n",
       "    <tr>\n",
       "      <th>9</th>\n",
       "      <td>Persons</td>\n",
       "      <td>10</td>\n",
       "      <td>3715</td>\n",
       "      <td>58.8</td>\n",
       "      <td>56.9</td>\n",
       "      <td>60.7</td>\n",
       "    </tr>\n",
       "    <tr>\n",
       "      <th>10</th>\n",
       "      <td>Males</td>\n",
       "      <td>1</td>\n",
       "      <td>2694</td>\n",
       "      <td>172.0</td>\n",
       "      <td>165.3</td>\n",
       "      <td>178.7</td>\n",
       "    </tr>\n",
       "    <tr>\n",
       "      <th>11</th>\n",
       "      <td>Males</td>\n",
       "      <td>2</td>\n",
       "      <td>2812</td>\n",
       "      <td>164.5</td>\n",
       "      <td>158.3</td>\n",
       "      <td>170.7</td>\n",
       "    </tr>\n",
       "    <tr>\n",
       "      <th>12</th>\n",
       "      <td>Males</td>\n",
       "      <td>3</td>\n",
       "      <td>2828</td>\n",
       "      <td>153.1</td>\n",
       "      <td>147.4</td>\n",
       "      <td>158.9</td>\n",
       "    </tr>\n",
       "    <tr>\n",
       "      <th>13</th>\n",
       "      <td>Males</td>\n",
       "      <td>4</td>\n",
       "      <td>2433</td>\n",
       "      <td>116.3</td>\n",
       "      <td>111.6</td>\n",
       "      <td>121.0</td>\n",
       "    </tr>\n",
       "    <tr>\n",
       "      <th>14</th>\n",
       "      <td>Males</td>\n",
       "      <td>5</td>\n",
       "      <td>2389</td>\n",
       "      <td>105.7</td>\n",
       "      <td>101.4</td>\n",
       "      <td>110.0</td>\n",
       "    </tr>\n",
       "    <tr>\n",
       "      <th>15</th>\n",
       "      <td>Males</td>\n",
       "      <td>6</td>\n",
       "      <td>2422</td>\n",
       "      <td>100.7</td>\n",
       "      <td>96.6</td>\n",
       "      <td>104.8</td>\n",
       "    </tr>\n",
       "    <tr>\n",
       "      <th>16</th>\n",
       "      <td>Males</td>\n",
       "      <td>7</td>\n",
       "      <td>2366</td>\n",
       "      <td>95.1</td>\n",
       "      <td>91.2</td>\n",
       "      <td>99.0</td>\n",
       "    </tr>\n",
       "    <tr>\n",
       "      <th>17</th>\n",
       "      <td>Males</td>\n",
       "      <td>8</td>\n",
       "      <td>2314</td>\n",
       "      <td>91.6</td>\n",
       "      <td>87.8</td>\n",
       "      <td>95.4</td>\n",
       "    </tr>\n",
       "    <tr>\n",
       "      <th>18</th>\n",
       "      <td>Males</td>\n",
       "      <td>9</td>\n",
       "      <td>2242</td>\n",
       "      <td>87.3</td>\n",
       "      <td>83.6</td>\n",
       "      <td>90.9</td>\n",
       "    </tr>\n",
       "    <tr>\n",
       "      <th>19</th>\n",
       "      <td>Males</td>\n",
       "      <td>10</td>\n",
       "      <td>2069</td>\n",
       "      <td>77.6</td>\n",
       "      <td>74.2</td>\n",
       "      <td>81.0</td>\n",
       "    </tr>\n",
       "    <tr>\n",
       "      <th>20</th>\n",
       "      <td>Females</td>\n",
       "      <td>1</td>\n",
       "      <td>2107</td>\n",
       "      <td>97.0</td>\n",
       "      <td>92.9</td>\n",
       "      <td>101.2</td>\n",
       "    </tr>\n",
       "    <tr>\n",
       "      <th>21</th>\n",
       "      <td>Females</td>\n",
       "      <td>2</td>\n",
       "      <td>2311</td>\n",
       "      <td>95.5</td>\n",
       "      <td>91.6</td>\n",
       "      <td>99.4</td>\n",
       "    </tr>\n",
       "    <tr>\n",
       "      <th>22</th>\n",
       "      <td>Females</td>\n",
       "      <td>3</td>\n",
       "      <td>2272</td>\n",
       "      <td>86.0</td>\n",
       "      <td>82.5</td>\n",
       "      <td>89.6</td>\n",
       "    </tr>\n",
       "    <tr>\n",
       "      <th>23</th>\n",
       "      <td>Females</td>\n",
       "      <td>4</td>\n",
       "      <td>1952</td>\n",
       "      <td>67.2</td>\n",
       "      <td>64.2</td>\n",
       "      <td>70.2</td>\n",
       "    </tr>\n",
       "    <tr>\n",
       "      <th>24</th>\n",
       "      <td>Females</td>\n",
       "      <td>5</td>\n",
       "      <td>1957</td>\n",
       "      <td>61.5</td>\n",
       "      <td>58.7</td>\n",
       "      <td>64.2</td>\n",
       "    </tr>\n",
       "    <tr>\n",
       "      <th>25</th>\n",
       "      <td>Females</td>\n",
       "      <td>6</td>\n",
       "      <td>1803</td>\n",
       "      <td>53.2</td>\n",
       "      <td>50.8</td>\n",
       "      <td>55.7</td>\n",
       "    </tr>\n",
       "    <tr>\n",
       "      <th>26</th>\n",
       "      <td>Females</td>\n",
       "      <td>7</td>\n",
       "      <td>1900</td>\n",
       "      <td>54.3</td>\n",
       "      <td>51.8</td>\n",
       "      <td>56.8</td>\n",
       "    </tr>\n",
       "    <tr>\n",
       "      <th>27</th>\n",
       "      <td>Females</td>\n",
       "      <td>8</td>\n",
       "      <td>1945</td>\n",
       "      <td>54.4</td>\n",
       "      <td>51.9</td>\n",
       "      <td>56.8</td>\n",
       "    </tr>\n",
       "    <tr>\n",
       "      <th>28</th>\n",
       "      <td>Females</td>\n",
       "      <td>9</td>\n",
       "      <td>1897</td>\n",
       "      <td>51.9</td>\n",
       "      <td>49.6</td>\n",
       "      <td>54.3</td>\n",
       "    </tr>\n",
       "    <tr>\n",
       "      <th>29</th>\n",
       "      <td>Females</td>\n",
       "      <td>10</td>\n",
       "      <td>1646</td>\n",
       "      <td>44.3</td>\n",
       "      <td>42.2</td>\n",
       "      <td>46.5</td>\n",
       "    </tr>\n",
       "  </tbody>\n",
       "</table>\n",
       "</div>"
      ],
      "text/plain": [
       "        Sex  Decile  Deaths   Rate  LowerCI  UpperCI\n",
       "0   Persons       1    4801  128.3    124.7    132.0\n",
       "1   Persons       2    5123  124.8    121.4    128.3\n",
       "2   Persons       3    5100  114.5    111.3    117.6\n",
       "3   Persons       4    4385   88.3     85.7     90.9\n",
       "4   Persons       5    4346   80.3     78.0     82.7\n",
       "5   Persons       6    4225   73.2     71.0     75.4\n",
       "6   Persons       7    4266   71.8     69.7     74.0\n",
       "7   Persons       8    4259   70.3     68.1     72.4\n",
       "8   Persons       9    4139   67.0     65.0     69.0\n",
       "9   Persons      10    3715   58.8     56.9     60.7\n",
       "10    Males       1    2694  172.0    165.3    178.7\n",
       "11    Males       2    2812  164.5    158.3    170.7\n",
       "12    Males       3    2828  153.1    147.4    158.9\n",
       "13    Males       4    2433  116.3    111.6    121.0\n",
       "14    Males       5    2389  105.7    101.4    110.0\n",
       "15    Males       6    2422  100.7     96.6    104.8\n",
       "16    Males       7    2366   95.1     91.2     99.0\n",
       "17    Males       8    2314   91.6     87.8     95.4\n",
       "18    Males       9    2242   87.3     83.6     90.9\n",
       "19    Males      10    2069   77.6     74.2     81.0\n",
       "20  Females       1    2107   97.0     92.9    101.2\n",
       "21  Females       2    2311   95.5     91.6     99.4\n",
       "22  Females       3    2272   86.0     82.5     89.6\n",
       "23  Females       4    1952   67.2     64.2     70.2\n",
       "24  Females       5    1957   61.5     58.7     64.2\n",
       "25  Females       6    1803   53.2     50.8     55.7\n",
       "26  Females       7    1900   54.3     51.8     56.8\n",
       "27  Females       8    1945   54.4     51.9     56.8\n",
       "28  Females       9    1897   51.9     49.6     54.3\n",
       "29  Females      10    1646   44.3     42.2     46.5"
      ]
     },
     "execution_count": 29,
     "metadata": {},
     "output_type": "execute_result"
    }
   ],
   "source": [
    "covDepDF"
   ]
  },
  {
   "cell_type": "code",
   "execution_count": 43,
   "metadata": {},
   "outputs": [],
   "source": [
    "covDepAll=covDepDF[covDepDF['Sex'].str.match('Persons')].drop(columns=\"Sex\")\n",
    "covDepMen=covDepDF[covDepDF['Sex'].str.match('Males')].drop(columns=\"Sex\")\n",
    "covDepWomen=covDepDF[covDepDF['Sex'].str.match('Females')].drop(columns=\"Sex\")"
   ]
  },
  {
   "cell_type": "code",
   "execution_count": null,
   "metadata": {},
   "outputs": [],
   "source": [
    "covDepMen.to_csv(\"../data/deprivation_men.csv\")\n",
    "covDepWomen.to_csv(\"../data/deprivation_women.csv\")\n",
    "covDepAll.to_csv(\"../data/deprivation_all.csv\")"
   ]
  },
  {
   "cell_type": "code",
   "execution_count": 47,
   "metadata": {},
   "outputs": [],
   "source": [
    "cDM=covDepMen.to_numpy()\n",
    "cDW=covDepWomen.to_numpy()\n",
    "cDA=covDepAll.to_numpy()"
   ]
  },
  {
   "cell_type": "code",
   "execution_count": 46,
   "metadata": {},
   "outputs": [
    {
     "data": {
      "text/html": [
       "<div>\n",
       "<style scoped>\n",
       "    .dataframe tbody tr th:only-of-type {\n",
       "        vertical-align: middle;\n",
       "    }\n",
       "\n",
       "    .dataframe tbody tr th {\n",
       "        vertical-align: top;\n",
       "    }\n",
       "\n",
       "    .dataframe thead th {\n",
       "        text-align: right;\n",
       "    }\n",
       "</style>\n",
       "<table border=\"1\" class=\"dataframe\">\n",
       "  <thead>\n",
       "    <tr style=\"text-align: right;\">\n",
       "      <th></th>\n",
       "      <th>Decile</th>\n",
       "      <th>Deaths</th>\n",
       "      <th>Rate</th>\n",
       "      <th>LowerCI</th>\n",
       "      <th>UpperCI</th>\n",
       "    </tr>\n",
       "  </thead>\n",
       "  <tbody>\n",
       "    <tr>\n",
       "      <th>10</th>\n",
       "      <td>1</td>\n",
       "      <td>2694</td>\n",
       "      <td>172.0</td>\n",
       "      <td>165.3</td>\n",
       "      <td>178.7</td>\n",
       "    </tr>\n",
       "    <tr>\n",
       "      <th>11</th>\n",
       "      <td>2</td>\n",
       "      <td>2812</td>\n",
       "      <td>164.5</td>\n",
       "      <td>158.3</td>\n",
       "      <td>170.7</td>\n",
       "    </tr>\n",
       "    <tr>\n",
       "      <th>12</th>\n",
       "      <td>3</td>\n",
       "      <td>2828</td>\n",
       "      <td>153.1</td>\n",
       "      <td>147.4</td>\n",
       "      <td>158.9</td>\n",
       "    </tr>\n",
       "    <tr>\n",
       "      <th>13</th>\n",
       "      <td>4</td>\n",
       "      <td>2433</td>\n",
       "      <td>116.3</td>\n",
       "      <td>111.6</td>\n",
       "      <td>121.0</td>\n",
       "    </tr>\n",
       "    <tr>\n",
       "      <th>14</th>\n",
       "      <td>5</td>\n",
       "      <td>2389</td>\n",
       "      <td>105.7</td>\n",
       "      <td>101.4</td>\n",
       "      <td>110.0</td>\n",
       "    </tr>\n",
       "    <tr>\n",
       "      <th>15</th>\n",
       "      <td>6</td>\n",
       "      <td>2422</td>\n",
       "      <td>100.7</td>\n",
       "      <td>96.6</td>\n",
       "      <td>104.8</td>\n",
       "    </tr>\n",
       "    <tr>\n",
       "      <th>16</th>\n",
       "      <td>7</td>\n",
       "      <td>2366</td>\n",
       "      <td>95.1</td>\n",
       "      <td>91.2</td>\n",
       "      <td>99.0</td>\n",
       "    </tr>\n",
       "    <tr>\n",
       "      <th>17</th>\n",
       "      <td>8</td>\n",
       "      <td>2314</td>\n",
       "      <td>91.6</td>\n",
       "      <td>87.8</td>\n",
       "      <td>95.4</td>\n",
       "    </tr>\n",
       "    <tr>\n",
       "      <th>18</th>\n",
       "      <td>9</td>\n",
       "      <td>2242</td>\n",
       "      <td>87.3</td>\n",
       "      <td>83.6</td>\n",
       "      <td>90.9</td>\n",
       "    </tr>\n",
       "    <tr>\n",
       "      <th>19</th>\n",
       "      <td>10</td>\n",
       "      <td>2069</td>\n",
       "      <td>77.6</td>\n",
       "      <td>74.2</td>\n",
       "      <td>81.0</td>\n",
       "    </tr>\n",
       "  </tbody>\n",
       "</table>\n",
       "</div>"
      ],
      "text/plain": [
       "    Decile  Deaths   Rate  LowerCI  UpperCI\n",
       "10       1    2694  172.0    165.3    178.7\n",
       "11       2    2812  164.5    158.3    170.7\n",
       "12       3    2828  153.1    147.4    158.9\n",
       "13       4    2433  116.3    111.6    121.0\n",
       "14       5    2389  105.7    101.4    110.0\n",
       "15       6    2422  100.7     96.6    104.8\n",
       "16       7    2366   95.1     91.2     99.0\n",
       "17       8    2314   91.6     87.8     95.4\n",
       "18       9    2242   87.3     83.6     90.9\n",
       "19      10    2069   77.6     74.2     81.0"
      ]
     },
     "execution_count": 46,
     "metadata": {},
     "output_type": "execute_result"
    }
   ],
   "source": [
    "covDepMen"
   ]
  },
  {
   "cell_type": "code",
   "execution_count": 55,
   "metadata": {},
   "outputs": [],
   "source": [
    "cDMX=cDM[:,0]\n",
    "cDMY=cDM[:,1]"
   ]
  },
  {
   "cell_type": "code",
   "execution_count": null,
   "metadata": {},
   "outputs": [],
   "source": [
    "fig, axs = plt.subplots(1, 2, sharey=True, tight_layout=True)"
   ]
  },
  {
   "cell_type": "code",
   "execution_count": 58,
   "metadata": {},
   "outputs": [
    {
     "data": {
      "text/plain": [
       "[]"
      ]
     },
     "execution_count": 58,
     "metadata": {},
     "output_type": "execute_result"
    },
    {
     "data": {
      "image/png": "[encoded data removed]",
      "text/plain": [
       "<Figure size 432x288 with 1 Axes>"
      ]
     },
     "metadata": {
      "needs_background": "light"
     },
     "output_type": "display_data"
    }
   ],
   "source": []
  },
  {
   "cell_type": "code",
   "execution_count": 63,
   "metadata": {},
   "outputs": [
    {
     "data": {
      "text/plain": [
       "(array([1, 0, 1, 2, 3, 0, 0, 0, 1, 2]),\n",
       " array([2069. , 2144.9, 2220.8, 2296.7, 2372.6, 2448.5, 2524.4, 2600.3,\n",
       "        2676.2, 2752.1, 2828. ]))"
      ]
     },
     "execution_count": 63,
     "metadata": {},
     "output_type": "execute_result"
    }
   ],
   "source": [
    "np.histogram(cDM[:,1],bins=)"
   ]
  },
  {
   "cell_type": "code",
   "execution_count": 64,
   "metadata": {},
   "outputs": [
    {
     "data": {
      "text/plain": [
       "array([[1.000e+00, 2.694e+03, 1.720e+02, 1.653e+02, 1.787e+02],\n",
       "       [2.000e+00, 2.812e+03, 1.645e+02, 1.583e+02, 1.707e+02],\n",
       "       [3.000e+00, 2.828e+03, 1.531e+02, 1.474e+02, 1.589e+02],\n",
       "       [4.000e+00, 2.433e+03, 1.163e+02, 1.116e+02, 1.210e+02],\n",
       "       [5.000e+00, 2.389e+03, 1.057e+02, 1.014e+02, 1.100e+02],\n",
       "       [6.000e+00, 2.422e+03, 1.007e+02, 9.660e+01, 1.048e+02],\n",
       "       [7.000e+00, 2.366e+03, 9.510e+01, 9.120e+01, 9.900e+01],\n",
       "       [8.000e+00, 2.314e+03, 9.160e+01, 8.780e+01, 9.540e+01],\n",
       "       [9.000e+00, 2.242e+03, 8.730e+01, 8.360e+01, 9.090e+01],\n",
       "       [1.000e+01, 2.069e+03, 7.760e+01, 7.420e+01, 8.100e+01]])"
      ]
     },
     "execution_count": 64,
     "metadata": {},
     "output_type": "execute_result"
    }
   ],
   "source": [
    "cDM"
   ]
  },
  {
   "cell_type": "code",
   "execution_count": 66,
   "metadata": {},
   "outputs": [],
   "source": [
    "cDMBins=cDM[:,0]"
   ]
  },
  {
   "cell_type": "code",
   "execution_count": 67,
   "metadata": {},
   "outputs": [],
   "source": [
    "cDMDeaths=cDM[:,1]"
   ]
  },
  {
   "cell_type": "code",
   "execution_count": 69,
   "metadata": {},
   "outputs": [
    {
     "data": {
      "text/plain": [
       "array([ 1.,  2.,  3.,  4.,  5.,  6.,  7.,  8.,  9., 10.])"
      ]
     },
     "execution_count": 69,
     "metadata": {},
     "output_type": "execute_result"
    }
   ],
   "source": [
    "cDMBins"
   ]
  },
  {
   "cell_type": "code",
   "execution_count": 75,
   "metadata": {},
   "outputs": [
    {
     "data": {
      "image/png": "[encoded data removed]",
      "text/plain": [
       "<Figure size 432x288 with 1 Axes>"
      ]
     },
     "metadata": {
      "needs_background": "light"
     },
     "output_type": "display_data"
    }
   ],
   "source": [
    "import matplotlib.pyplot as plt\n",
    "xlabels = cDM[:,0]\n",
    "men_deaths= cDM[:,1]\n",
    "women_deaths = cDW[:,1]\n",
    "all_deaths = cDA[:,1]\n",
    "\n",
    "x = np.arange(len(xlabels))\n",
    "width = 0.2  \n",
    "\n",
    "fig, ax = plt.subplots()\n",
    "rects1 = ax.bar(x - width/2, men_deaths, width, label='Men')\n",
    "rects2 = ax.bar(x + width/2, women_deaths, width, label='Women')\n",
    "\n",
    "# Add some text for labels, title and custom x-axis tick labels, etc.\n",
    "ax.set_ylabel('Deaths')\n",
    "ax.set_title('COVID-19 Deaths By Sex and Deprivation Decile')\n",
    "ax.set_xticks(x)\n",
    "ax.legend()\n",
    "\n",
    "fig.tight_layout()\n",
    "\n",
    "plt.show()\n"
   ]
  },
  {
   "cell_type": "code",
   "execution_count": 80,
   "metadata": {},
   "outputs": [
    {
     "data": {
      "text/plain": [
       "[2694, 2812, 2828, 2433, 2389, 2422, 2366, 2314, 2242, 2069]"
      ]
     },
     "execution_count": 80,
     "metadata": {},
     "output_type": "execute_result"
    }
   ],
   "source": [
    "covDepMen['Deaths'].tolist()"
   ]
  },
  {
   "cell_type": "code",
   "execution_count": 92,
   "metadata": {},
   "outputs": [
    {
     "data": {
      "text/plain": [
       "<matplotlib.axes._subplots.AxesSubplot at 0x118dcb828>"
      ]
     },
     "execution_count": 92,
     "metadata": {},
     "output_type": "execute_result"
    },
    {
     "data": {
      "image/png": "[encoded data removed]",
      "text/plain": [
       "<Figure size 432x288 with 1 Axes>"
      ]
     },
     "metadata": {
      "needs_background": "light"
     },
     "output_type": "display_data"
    }
   ],
   "source": [
    "column_names = ['Men', 'Women', 'All']\n",
    "menD = covDepMen['Deaths'].tolist()\n",
    "womenD = covDepWomen['Deaths'].tolist()\n",
    "allD = covDepAll['Deaths'].tolist()\n",
    "\n",
    "\n",
    "df = pd.DataFrame({'Men':menD,'Women':womenD,'All':allD})\n",
    "df.plot.bar(stacked=True)"
   ]
  },
  {
   "cell_type": "code",
   "execution_count": null,
   "metadata": {},
   "outputs": [],
   "source": []
  }
 ],
 "metadata": {
  "kernelspec": {
   "display_name": "Python 3",
   "language": "python",
   "name": "python3"
  },
  "language_info": {
   "codemirror_mode": {
    "name": "ipython",
    "version": 3
   },
   "file_extension": ".py",
   "mimetype": "text/x-python",
   "name": "python",
   "nbconvert_exporter": "python",
   "pygments_lexer": "ipython3",
   "version": "3.7.1"
  },
  "toc": {
   "base_numbering": 1,
   "nav_menu": {},
   "number_sections": true,
   "sideBar": true,
   "skip_h1_title": false,
   "title_cell": "Table of Contents",
   "title_sidebar": "Contents",
   "toc_cell": false,
   "toc_position": {},
   "toc_section_display": true,
   "toc_window_display": false
  }
 },
 "nbformat": 4,
 "nbformat_minor": 2
}
