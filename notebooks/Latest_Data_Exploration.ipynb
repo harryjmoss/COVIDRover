{
 "cells": [
  {
   "cell_type": "markdown",
   "metadata": {},
   "source": [
    "# Data exploration - combining data sources"
   ]
  },
  {
   "cell_type": "markdown",
   "metadata": {},
   "source": [
    "This notebook looks at the latest COVID-19 cases and deaths information available through https://coronavirus.data.gov.uk/ and combines it with geographical and deprivation index information."
   ]
  },
  {
   "cell_type": "code",
   "execution_count": null,
   "metadata": {},
   "outputs": [],
   "source": [
    "import pandas as pd\n",
    "import requests\n",
    "from io import StringIO\n",
    "import numpy as np\n",
    "def download_latest_csvs(url):\n",
    "    reqCSV=requests.get(url).text\n",
    "    csvDF=pd.read_csv(StringIO(reqCSV))\n",
    "    return csvDF\n",
    "import matplotlib.pyplot as plt"
   ]
  },
  {
   "cell_type": "markdown",
   "metadata": {},
   "source": [
    "## Obtaining and cleaning data"
   ]
  },
  {
   "cell_type": "markdown",
   "metadata": {},
   "source": [
    "Deprivation by area data is just a fixed file as it was published in 2019"
   ]
  },
  {
   "cell_type": "code",
   "execution_count": null,
   "metadata": {},
   "outputs": [],
   "source": [
    "depDF=pd.read_csv(\"../data/deprivation_index_by_area.csv\")"
   ]
  },
  {
   "cell_type": "code",
   "execution_count": null,
   "metadata": {},
   "outputs": [],
   "source": [
    "depDF['http://opendatacommunities.org/def/ontology/geography/refArea'][0]"
   ]
  },
  {
   "cell_type": "code",
   "execution_count": null,
   "metadata": {},
   "outputs": [],
   "source": [
    "depDF.columns.tolist()"
   ]
  },
  {
   "cell_type": "code",
   "execution_count": null,
   "metadata": {},
   "outputs": [],
   "source": [
    "depDF.columns=['AreaCode',\n",
    " 'Reference area',\n",
    " 'a. Index of Multiple Deprivation (IMD)',\n",
    " 'b. Income Deprivation Domain',\n",
    " 'c. Employment Deprivation Domain',\n",
    " 'd. Education, Skills and Training Domain',\n",
    " 'e. Health Deprivation and Disability Domain',\n",
    " 'f. Crime Domain',\n",
    " 'g. Barriers to Housing and Services Domain',\n",
    " 'h. Living Environment Deprivation Domain',\n",
    " 'i. Income Deprivation Affecting Children Index (IDACI)',\n",
    " 'j. Income Deprivation Affecting Older People Index (IDAOPI)']"
   ]
  },
  {
   "cell_type": "code",
   "execution_count": null,
   "metadata": {},
   "outputs": [],
   "source": [
    "depDF['AreaCode']"
   ]
  },
  {
   "cell_type": "markdown",
   "metadata": {},
   "source": [
    "Get the area code from these URLs:"
   ]
  },
  {
   "cell_type": "code",
   "execution_count": null,
   "metadata": {},
   "outputs": [],
   "source": [
    "areaCodeList=depDF['AreaCode'].str.rsplit(pat='/',n=1).tolist()"
   ]
  },
  {
   "cell_type": "code",
   "execution_count": null,
   "metadata": {},
   "outputs": [],
   "source": [
    "areaCodeList=np.array(areaCodeList)"
   ]
  },
  {
   "cell_type": "code",
   "execution_count": null,
   "metadata": {},
   "outputs": [],
   "source": [
    "areaCodeList=areaCodeList[:,-1]"
   ]
  },
  {
   "cell_type": "code",
   "execution_count": null,
   "metadata": {},
   "outputs": [],
   "source": [
    "depDF['AreaCode']=areaCodeList"
   ]
  },
  {
   "cell_type": "code",
   "execution_count": null,
   "metadata": {},
   "outputs": [],
   "source": [
    "depDF"
   ]
  },
  {
   "cell_type": "code",
   "execution_count": null,
   "metadata": {},
   "outputs": [],
   "source": [
    "depDF.columns"
   ]
  },
  {
   "cell_type": "code",
   "execution_count": null,
   "metadata": {},
   "outputs": [],
   "source": [
    "ddf=depDF[['AreaCode','a. Index of Multiple Deprivation (IMD)']]"
   ]
  },
  {
   "cell_type": "code",
   "execution_count": null,
   "metadata": {},
   "outputs": [],
   "source": [
    "ddf.columns=['Area code','IMD']"
   ]
  },
  {
   "cell_type": "code",
   "execution_count": null,
   "metadata": {},
   "outputs": [],
   "source": [
    "ddf"
   ]
  },
  {
   "cell_type": "markdown",
   "metadata": {},
   "source": [
    "Request the latest available datasets from data.gov.uk"
   ]
  },
  {
   "cell_type": "code",
   "execution_count": null,
   "metadata": {},
   "outputs": [],
   "source": [
    "cases_url = \"https://coronavirus.data.gov.uk/downloads/csv/coronavirus-cases_latest.csv\"\n",
    "deaths_url = \"https://coronavirus.data.gov.uk/downloads/csv/coronavirus-deaths_latest.csv\"\n",
    "casesDF= download_latest_csvs(cases_url)\n",
    "deathsDF= download_latest_csvs(deaths_url)"
   ]
  },
  {
   "cell_type": "code",
   "execution_count": null,
   "metadata": {},
   "outputs": [],
   "source": [
    "deathsDF"
   ]
  },
  {
   "cell_type": "markdown",
   "metadata": {},
   "source": [
    "Deaths information is given at the Nation level unlike the cases information, so is less useful for us here if we want to merge it with deprivation information for English local authorities"
   ]
  },
  {
   "cell_type": "markdown",
   "metadata": {},
   "source": [
    "Work with cases information:"
   ]
  },
  {
   "cell_type": "code",
   "execution_count": null,
   "metadata": {},
   "outputs": [],
   "source": [
    "casesDF.sort_values(by='Specimen date')"
   ]
  },
  {
   "cell_type": "markdown",
   "metadata": {},
   "source": [
    "Merge the COVID-19 cases statistics with the IMD information when the area code matches:"
   ]
  },
  {
   "cell_type": "code",
   "execution_count": null,
   "metadata": {},
   "outputs": [],
   "source": [
    "cases_ddf=pd.merge(casesDF, ddf, how='inner', on='Area code')"
   ]
  },
  {
   "cell_type": "code",
   "execution_count": null,
   "metadata": {},
   "outputs": [],
   "source": [
    "cases_ddf"
   ]
  },
  {
   "cell_type": "markdown",
   "metadata": {},
   "source": [
    "Request the latest available date from the dataframe:"
   ]
  },
  {
   "cell_type": "code",
   "execution_count": null,
   "metadata": {},
   "outputs": [],
   "source": [
    "cases_areas_latest=cases_ddf[(cases_ddf['Specimen date']==cases_ddf['Specimen date'].max()) & (cases_ddf['Area type'].str.match('Lower tier local authority'))]\n",
    "cases_areas_latest"
   ]
  },
  {
   "cell_type": "code",
   "execution_count": null,
   "metadata": {},
   "outputs": [],
   "source": [
    "calIMD=cases_areas_latest.sort_values(by='IMD')"
   ]
  },
  {
   "cell_type": "code",
   "execution_count": null,
   "metadata": {},
   "outputs": [],
   "source": [
    "calIMD"
   ]
  },
  {
   "cell_type": "markdown",
   "metadata": {},
   "source": [
    "Remove empty columns:"
   ]
  },
  {
   "cell_type": "code",
   "execution_count": null,
   "metadata": {},
   "outputs": [],
   "source": [
    "calIMD=calIMD.dropna(axis=1,how='all')"
   ]
  },
  {
   "cell_type": "markdown",
   "metadata": {},
   "source": [
    "## Starting to visualise the data"
   ]
  },
  {
   "cell_type": "markdown",
   "metadata": {},
   "source": [
    "Try a basic scatter plot of cumulative cases vs IMD"
   ]
  },
  {
   "cell_type": "code",
   "execution_count": null,
   "metadata": {},
   "outputs": [],
   "source": [
    "calIMD.plot.scatter(\"IMD\",'Cumulative lab-confirmed cases')"
   ]
  },
  {
   "cell_type": "markdown",
   "metadata": {},
   "source": [
    "A 2D histogram is better for this purpose, so use matplotlib.pyplot and try a few styles!"
   ]
  },
  {
   "cell_type": "code",
   "execution_count": null,
   "metadata": {},
   "outputs": [],
   "source": [
    "plt.hist2d(calIMD['IMD'],calIMD['Cumulative lab-confirmed cases'])"
   ]
  },
  {
   "cell_type": "code",
   "execution_count": null,
   "metadata": {},
   "outputs": [],
   "source": [
    "npIMD=calIMD['IMD'].to_numpy()"
   ]
  },
  {
   "cell_type": "code",
   "execution_count": null,
   "metadata": {},
   "outputs": [],
   "source": [
    "npCases=calIMD['Cumulative lab-confirmed cases'].to_numpy()"
   ]
  },
  {
   "cell_type": "code",
   "execution_count": null,
   "metadata": {},
   "outputs": [],
   "source": [
    "plt.figure(figsize=(8,6))\n",
    "hexbin=plt.hexbin(npIMD,npCases,gridsize=10,cmap='jet',mincnt=1)\n",
    "plt.colorbar(hexbin)"
   ]
  },
  {
   "cell_type": "markdown",
   "metadata": {},
   "source": [
    "The below uses matplotlib.pyplot directly rather than going through pandas, offering more direct control of the parameters"
   ]
  },
  {
   "cell_type": "code",
   "execution_count": null,
   "metadata": {},
   "outputs": [],
   "source": [
    "plt.figure(figsize=(8,6))\n",
    "histTwoD=plt.hist2d(npIMD,npCases,cmap='jet')"
   ]
  },
  {
   "cell_type": "markdown",
   "metadata": {},
   "source": [
    "The `jet` colour map is (notoriously) contentious - see this [colour map advice](https://www.kennethmoreland.com/color-advice/) for scientific plotting. Try with `viridis`, and add a colour bar for the number of bin entries"
   ]
  },
  {
   "cell_type": "code",
   "execution_count": null,
   "metadata": {},
   "outputs": [],
   "source": [
    "fig, ax = plt.subplots()\n",
    "h = ax.hist2d(npIMD, npCases, bins=20,cmin=1,cmap='viridis')\n",
    "plt.colorbar(h[3], ax=ax)"
   ]
  },
  {
   "cell_type": "markdown",
   "metadata": {},
   "source": [
    "Can then go on to add titles, axis labels, customise bin numbers..."
   ]
  },
  {
   "cell_type": "code",
   "execution_count": null,
   "metadata": {},
   "outputs": [],
   "source": [
    "import geopandas as gpd"
   ]
  },
  {
   "cell_type": "code",
   "execution_count": null,
   "metadata": {},
   "outputs": [],
   "source": [
    "geoURL=\"https://opendata.arcgis.com/datasets/a8531598f29f44e7ad455abb6bf59c60_0.geojson\""
   ]
  },
  {
   "cell_type": "markdown",
   "metadata": {},
   "source": [
    "Load in a geopandas DataFrame directly from a URL pointing at a geojson:"
   ]
  },
  {
   "cell_type": "code",
   "execution_count": null,
   "metadata": {},
   "outputs": [],
   "source": [
    "#mapdf=gpd.read_file(geoURL)"
   ]
  },
  {
   "cell_type": "markdown",
   "metadata": {},
   "source": [
    "...or one saved locally"
   ]
  },
  {
   "cell_type": "code",
   "execution_count": null,
   "metadata": {},
   "outputs": [],
   "source": [
    "mapdf=gpd.read_file('../data/geofiles/geofile.shp')"
   ]
  },
  {
   "cell_type": "code",
   "execution_count": null,
   "metadata": {
    "scrolled": true
   },
   "outputs": [],
   "source": [
    "mapdf"
   ]
  },
  {
   "cell_type": "markdown",
   "metadata": {},
   "source": [
    "If you've loaded the local file, you don't need to trim the file as below"
   ]
  },
  {
   "cell_type": "code",
   "execution_count": null,
   "metadata": {},
   "outputs": [],
   "source": [
    "#mapdf=mapdf[['lad19cd','lad19nm','geometry']]\n",
    "#mapdf=.columns=['Area code','Area name','geometry']"
   ]
  },
  {
   "cell_type": "markdown",
   "metadata": {},
   "source": [
    "Call geopandas.plot() to see what we've loaded"
   ]
  },
  {
   "cell_type": "code",
   "execution_count": null,
   "metadata": {},
   "outputs": [],
   "source": [
    "mapdf.plot()"
   ]
  },
  {
   "cell_type": "markdown",
   "metadata": {},
   "source": [
    "Merge the map information with the cases information retrieved previously"
   ]
  },
  {
   "cell_type": "code",
   "execution_count": null,
   "metadata": {},
   "outputs": [],
   "source": [
    "merged=pd.merge(mapdf,calIMD,on='Area code',how='inner')"
   ]
  },
  {
   "cell_type": "code",
   "execution_count": null,
   "metadata": {},
   "outputs": [],
   "source": [
    "merged"
   ]
  },
  {
   "cell_type": "markdown",
   "metadata": {},
   "source": [
    "Select a subset of columns:"
   ]
  },
  {
   "cell_type": "code",
   "execution_count": null,
   "metadata": {},
   "outputs": [],
   "source": [
    "merged=merged[['geometry','Area name','Specimen date','Cumulative lab-confirmed cases','Cumulative lab-confirmed cases rate','IMD']]"
   ]
  },
  {
   "cell_type": "markdown",
   "metadata": {},
   "source": [
    "Rename the columns for convenience"
   ]
  },
  {
   "cell_type": "code",
   "execution_count": null,
   "metadata": {},
   "outputs": [],
   "source": [
    "merged.columns=['geometry', 'Area', 'Date',\n",
    "       'Cases', 'RatePer100K',\n",
    "       'IMD']"
   ]
  },
  {
   "cell_type": "markdown",
   "metadata": {},
   "source": [
    "### Start overlaying England local authority regions onto a UK map with case information"
   ]
  },
  {
   "cell_type": "code",
   "execution_count": null,
   "metadata": {},
   "outputs": [],
   "source": [
    "crsdf = merged.to_crs(epsg=3857)"
   ]
  },
  {
   "cell_type": "code",
   "execution_count": null,
   "metadata": {},
   "outputs": [],
   "source": [
    "import contextily as ctx"
   ]
  },
  {
   "cell_type": "code",
   "execution_count": null,
   "metadata": {},
   "outputs": [],
   "source": [
    "ax = crsdf.plot(column='Cases',cmap='Blues',figsize=(10, 10), alpha=0.5, edgecolor='k')\n",
    "ctx.add_basemap(ax, source=ctx.providers.Stamen.TonerLite)"
   ]
  },
  {
   "cell_type": "markdown",
   "metadata": {},
   "source": [
    "I don't find this plot very clear so haven't included it in the main code, but it's more here as a proof of concept"
   ]
  },
  {
   "cell_type": "markdown",
   "metadata": {},
   "source": [
    "An alternative view using matplotlib:"
   ]
  },
  {
   "cell_type": "code",
   "execution_count": null,
   "metadata": {},
   "outputs": [],
   "source": [
    "fig, ax = plt.subplots(1, figsize=(10, 8))\n",
    "merged.plot(column='Cases', cmap='Blues', linewidth=0.8, ax=ax, edgecolor='0.8')\n",
    "sm = plt.cm.ScalarMappable(cmap='Blues', norm=plt.Normalize(vmin=1,vmax=3500))\n",
    "sm._A = []\n",
    "cbar = fig.colorbar(sm)\n",
    "plt.axis('off')\n",
    "plt.show()"
   ]
  },
  {
   "cell_type": "markdown",
   "metadata": {},
   "source": [
    "Create this normalised IMD value before everything is converted to json:"
   ]
  },
  {
   "cell_type": "code",
   "execution_count": null,
   "metadata": {},
   "outputs": [],
   "source": [
    "merged['IMDNorm']=merged['IMD']/(merged['IMD'].max())"
   ]
  },
  {
   "cell_type": "markdown",
   "metadata": {},
   "source": [
    "Read into json and return a str"
   ]
  },
  {
   "cell_type": "code",
   "execution_count": null,
   "metadata": {},
   "outputs": [],
   "source": [
    "import json\n",
    "merged_json = json.loads(merged.to_json())\n",
    "json_data = json.dumps(merged_json)\n",
    "assert isinstance(json_data,str)"
   ]
  },
  {
   "cell_type": "markdown",
   "metadata": {},
   "source": [
    "### Interactive plots with Bokeh"
   ]
  },
  {
   "cell_type": "markdown",
   "metadata": {},
   "source": [
    "Imports!"
   ]
  },
  {
   "cell_type": "code",
   "execution_count": null,
   "metadata": {},
   "outputs": [],
   "source": [
    "from bokeh.io import show, output_file, output_notebook, save\n",
    "from bokeh.plotting import figure\n",
    "from bokeh.models import GeoJSONDataSource, LinearColorMapper, ColorBar, HoverTool\n",
    "import bokeh.palettes\n",
    "from bokeh.models.tickers import FixedTicker"
   ]
  },
  {
   "cell_type": "code",
   "execution_count": null,
   "metadata": {},
   "outputs": [],
   "source": [
    "geosource = GeoJSONDataSource(geojson = json_data)\n",
    "# use viridis colour map as before\n",
    "palette = bokeh.palettes.viridis(8)\n",
    "palette = palette[::-1] # runs the colour palette backwards, personal preference\n",
    "\n",
    "color_mapper = LinearColorMapper(palette = palette, low = 0, high = 4000)\n",
    "cbarTicker = FixedTicker(ticks=np.arange(0,4000,500))\n",
    "\n",
    "#Add a hover tooltip to the map\n",
    "hover = HoverTool(tooltips = [ ('Area','@Area'),('IMD', '@IMD'),('Cases', '@Cases'),('Date','@Date')])\n",
    "\n",
    "#Create a colourbar with the viridis palette we set above\n",
    "color_bar = ColorBar(color_mapper=color_mapper, ticker=cbarTicker,label_standoff=8,width = 400, height = 20,\n",
    "border_line_color=None,location = (0,0), orientation = 'horizontal')\n",
    "\n",
    "map_plot = figure(title = 'Lab-Confirmed COVID-19 Cases By Area', plot_height = 600 , plot_width = 400, toolbar_location = None,tools=[hover])\n",
    "# turn off gridlines\n",
    "map_plot.xgrid.grid_line_color = None\n",
    "map_plot.ygrid.grid_line_color = None\n",
    "\n",
    "map_plot.patches('xs','ys', source = geosource,fill_color = {'field' :'Cases', 'transform' : color_mapper},\n",
    "          line_color = 'black', line_width = 0.1, fill_alpha = .8)\n",
    "map_plot.add_layout(color_bar, 'below')\n",
    "\n",
    "# this line is required to display bokeh plots inline in jupyter notebooks:\n",
    "output_notebook()\n",
    "\n",
    "# draw the plot\n",
    "show(map_plot)\n"
   ]
  },
  {
   "cell_type": "code",
   "execution_count": null,
   "metadata": {},
   "outputs": [],
   "source": [
    "geosource = GeoJSONDataSource(geojson = json_data)\n",
    "# use viridis colour map as before\n",
    "palette = bokeh.palettes.viridis(10)\n",
    "palette = palette[::-1]\n",
    "\n",
    "color_mapper = LinearColorMapper(palette = palette, low = 0, high = 50)\n",
    "cbarTicker = FixedTicker(ticks=np.arange(0,50,5))\n",
    "\n",
    "#Add a hover tooltip to the map\n",
    "hover = HoverTool(tooltips = [ ('Area','@Area'),('IMD', '@IMD'),('Cases', '@Cases'),('Date','@Date')])\n",
    "\n",
    "#Create a colourbar with the viridis palette we set above\n",
    "color_bar = ColorBar(color_mapper=color_mapper, ticker=cbarTicker,label_standoff=8,width = 400, height = 20,\n",
    "border_line_color=None,location = (0,0), orientation = 'horizontal')\n",
    "\n",
    "map_plot = figure(title = 'Average Index of Multiple Deprivation By Area', plot_height = 600 , plot_width = 400, toolbar_location = None,tools=[hover])\n",
    "# turn off gridlines\n",
    "map_plot.xgrid.grid_line_color = None\n",
    "map_plot.ygrid.grid_line_color = None\n",
    "\n",
    "map_plot.patches('xs','ys', source = geosource,fill_color = {'field' :'IMD', 'transform' : color_mapper},\n",
    "          line_color = 'black', line_width = 0.1, fill_alpha = .8)\n",
    "map_plot.add_layout(color_bar, 'below')\n",
    "\n",
    "# this line is required to display bokeh plots inline in jupyter notebooks:\n",
    "output_notebook()\n",
    "\n",
    "# draw the plot\n",
    "show(map_plot)"
   ]
  },
  {
   "cell_type": "code",
   "execution_count": null,
   "metadata": {},
   "outputs": [],
   "source": [
    "geosource = GeoJSONDataSource(geojson = json_data)\n",
    "# use viridis colour map as before\n",
    "palette = bokeh.palettes.viridis(11)\n",
    "palette = palette[::-1]\n",
    "\n",
    "color_mapper = LinearColorMapper(palette = palette, low = 0, high = 1.1)\n",
    "cbarTicker = FixedTicker(ticks=np.arange(0,1.1,0.1))\n",
    "\n",
    "#Add a hover tooltip to the map\n",
    "hover = HoverTool(tooltips = [ ('Area','@Area'),('IMD', '@IMDNorm'),('Cases', '@Cases'),('Date','@Date')])\n",
    "\n",
    "#Create a colourbar with the viridis palette we set above\n",
    "color_bar = ColorBar(color_mapper=color_mapper, ticker=cbarTicker,label_standoff=8,width = 400, height = 20,\n",
    "border_line_color=None,location = (0,0), orientation = 'horizontal')\n",
    "\n",
    "map_plot = figure(title = 'Normalised Average Index of Multiple Deprivation By Area', plot_height = 600 , plot_width = 400, toolbar_location = None,tools=[hover])\n",
    "# turn off gridlines\n",
    "map_plot.xgrid.grid_line_color = None\n",
    "map_plot.ygrid.grid_line_color = None\n",
    "\n",
    "map_plot.patches('xs','ys', source = geosource,fill_color = {'field' :'IMDNorm', 'transform' : color_mapper},\n",
    "          line_color = 'black', line_width = 0.1, fill_alpha = .8)\n",
    "map_plot.add_layout(color_bar, 'below')\n",
    "\n",
    "# this line is required to display bokeh plots inline in jupyter notebooks:\n",
    "output_notebook()\n",
    "\n",
    "# draw the plot\n",
    "show(map_plot)"
   ]
  },
  {
   "cell_type": "markdown",
   "metadata": {},
   "source": [
    "## Extra datasets - Work in progress"
   ]
  },
  {
   "cell_type": "markdown",
   "metadata": {},
   "source": [
    "Death statistics per lower tier local authority (March-May 2020)"
   ]
  },
  {
   "cell_type": "code",
   "execution_count": null,
   "metadata": {},
   "outputs": [],
   "source": [
    "import openpyxl\n",
    "import pandas as pd\n",
    "import numpy as np\n",
    "import requests\n",
    "import matplotlib.pyplot as plt\n",
    "depURL=\"https://www.ons.gov.uk/file?uri=%2fpeoplepopulationandcommunity%2fbirthsdeathsandmarriages%2fdeaths%2fdatasets%2fdeathsinvolvingcovid19bylocalareaanddeprivation%2f1march2020to31may2020/referencetablesworkbook1.xlsx\"\n",
    "depRequest=requests.get(depURL)\n",
    "output=open('../data/covid_deprivation_gender.xlsx','wb')\n",
    "output.write(depRequest.content)\n",
    "output.close()"
   ]
  },
  {
   "cell_type": "code",
   "execution_count": null,
   "metadata": {},
   "outputs": [],
   "source": [
    "death_area=pd.read_excel('../data/covid_deprivation_gender.xlsx',\"Table 2\")\n",
    "death_area=death_area.drop([0,1])\n",
    "death_area.index=np.arange(0,len(death_area))\n",
    "death_area=death_area.head(3486)\n",
    "new_header = death_area.iloc[0] #grab the first row for the header\n",
    "death_area = death_area[1:] #take the data less the header row\n",
    "death_area.columns = new_header #set the header row as the df header\n",
    "death_area.index=np.arange(0,len(death_area))"
   ]
  },
  {
   "cell_type": "code",
   "execution_count": null,
   "metadata": {},
   "outputs": [],
   "source": [
    "death_area=death_area.dropna(how='all')\n",
    "death_area=death_area.dropna(axis=1,how='all')\n",
    "death_area.columns=['Cause',\n",
    " 'Sex',\n",
    " 'Geography type',\n",
    " 'Area code',\n",
    " 'Area name',\n",
    " 'March',\n",
    " 'marchnan',\n",
    " 'marchnan2',\n",
    " 'marchnan3',\n",
    " 'marchnan4',\n",
    " 'April',\n",
    " 'aprilnan',\n",
    " 'aprilnan2',\n",
    " 'aprilnan3',\n",
    " 'aprilnan4',\n",
    " 'May',\n",
    " 'maynan',\n",
    " 'maynan2',\n",
    " 'maynan3',\n",
    " 'maynan4',\n",
    " 'MarchMayDeaths',\n",
    " 'MarchMayRate',\n",
    " 'MarchMayNaN2',\n",
    " 'MarchMayRateLowCI',\n",
    " 'MarchMayRateHighCI']\n",
    "death_area=death_area[['Cause','Sex','Geography type','Area code','Area name','MarchMayDeaths','MarchMayRate','MarchMayRateLowCI','MarchMayRateHighCI']]"
   ]
  },
  {
   "cell_type": "code",
   "execution_count": null,
   "metadata": {},
   "outputs": [],
   "source": [
    "death_area.columns=['Cause',\n",
    " 'Sex',\n",
    " 'GeoType',\n",
    " 'Area code',\n",
    " 'Area name',\n",
    " 'Deaths',\n",
    " 'Rate',\n",
    " 'RateLowCI',\n",
    " 'RateHighCI']"
   ]
  },
  {
   "cell_type": "code",
   "execution_count": null,
   "metadata": {},
   "outputs": [],
   "source": [
    "death_area=death_area.drop(index=[0])\n",
    "death_area=death_area[death_area['Cause'].str.match('COVID-19')]\n",
    "death_area.to_csv(\"../data/mortality_stats_byArea_EnglandWales_MarchMay2020.csv\")"
   ]
  }
 ],
 "metadata": {
  "kernelspec": {
   "display_name": "Python 3",
   "language": "python",
   "name": "python3"
  },
  "language_info": {
   "codemirror_mode": {
    "name": "ipython",
    "version": 3
   },
   "file_extension": ".py",
   "mimetype": "text/x-python",
   "name": "python",
   "nbconvert_exporter": "python",
   "pygments_lexer": "ipython3",
   "version": "3.7.1"
  },
  "toc": {
   "base_numbering": 1,
   "nav_menu": {},
   "number_sections": true,
   "sideBar": true,
   "skip_h1_title": false,
   "title_cell": "Table of Contents",
   "title_sidebar": "Contents",
   "toc_cell": false,
   "toc_position": {},
   "toc_section_display": true,
   "toc_window_display": false
  }
 },
 "nbformat": 4,
 "nbformat_minor": 2
}
